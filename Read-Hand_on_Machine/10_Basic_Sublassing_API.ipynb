{
 "cells": [
  {
   "attachments": {},
   "cell_type": "markdown",
   "metadata": {},
   "source": [
    "#### Cả Sequential lẫn Function đều là model tĩnh tuy dễ dàng triển khai, kiểm tra và gỡ rối nhưng nó ko linh hoạt khi gặp các model liên quan đến vòng lặp, hình dạng khác nhau, hay if else thì khó xử lí nên phải cần đến kiểu api khác linh hoạt hơn đó là Subclassing API"
   ]
  },
  {
   "cell_type": "code",
   "execution_count": null,
   "metadata": {},
   "outputs": [],
   "source": [
    "class Modell(keras.model.Model):\n",
    "    def __init__(self,units = 30, activation ='relu',**kwargs):\n",
    "        super().__init__(**kwargs)\n",
    "        self.hidden1 = keras.layers.Dense(units,activation = activation)\n",
    "        self.hidden2 = keras.layers.Dense(units,activation = activation)\n",
    "        self.main_output = keras.layers.Dense(1)\n",
    "        self.aux_ouput = keras.layers.Dense(1)\n",
    "    def call(self,inputs):\n",
    "        input_A , input_B = inputs\n",
    "        hidden1 = self.hidden1(input_B)\n",
    "        hidden2 = self.hidden2(hidden1)\n",
    "        concat = keras.layers.concatenate([input_A,hidden2])\n",
    "        main_output = self.main_output(hidden2)\n",
    "        aux_output = self.aux_output(hidden2)\n",
    "        return main_output,aux_output\n",
    "\n"
   ]
  }
 ],
 "metadata": {
  "language_info": {
   "name": "python"
  },
  "orig_nbformat": 4
 },
 "nbformat": 4,
 "nbformat_minor": 2
}
